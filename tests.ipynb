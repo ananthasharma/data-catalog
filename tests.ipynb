{
 "cells": [
  {
   "cell_type": "markdown",
   "metadata": {},
   "source": [
    "# Testing the solution (just the local file browser apis)"
   ]
  },
  {
   "cell_type": "code",
   "execution_count": 12,
   "metadata": {},
   "outputs": [],
   "source": [
    "#Start instance by running\n",
    "\n",
    "!#python manage.py runserver"
   ]
  },
  {
   "cell_type": "code",
   "execution_count": 13,
   "metadata": {},
   "outputs": [],
   "source": [
    "# assuming the application is running on port 8000"
   ]
  },
  {
   "cell_type": "code",
   "execution_count": 14,
   "metadata": {},
   "outputs": [],
   "source": [
    "base_URL = \"http://localhost:8000/\"\n",
    "context_path = \"files/local/list/\"\n",
    "query_param = \"folder\"\n",
    "#query parameter accepts a string with the path to target folder"
   ]
  },
  {
   "cell_type": "markdown",
   "metadata": {},
   "source": [
    "## Test with folder path\n",
    "### defaults to folder / when the param ```folder``` isn't sent"
   ]
  },
  {
   "cell_type": "code",
   "execution_count": 15,
   "metadata": {},
   "outputs": [
    {
     "name": "stdout",
     "output_type": "stream",
     "text": [
      "[{\"type\":\"directory\",\"name\":\"/\",\"contents\":[{\"type\":\"directory\",\"name\":\"//home\",\"contents\":[]},{\"type\":\"directory\",\"name\":\"//usr\",\"contents\":[]},{\"type\":\"directory\",\"name\":\"//bin\",\"contents\":[]},{\"type\":\"directory\",\"name\":\"//sbin\",\"contents\":[]},{\"type\":\"directory\",\"name\":\"//etc\",\"contents\":[]},{\"type\":\"directory\",\"name\":\"//var\",\"contents\":[]},{\"type\":\"directory\",\"name\":\"//Library\",\"contents\":[]},{\"type\":\"directory\",\"name\":\"//System\",\"contents\":[]},{\"type\":\"directory\",\"name\":\"//.fseventsd\",\"contents\":[]},{\"type\":\"directory\",\"name\":\"//private\",\"contents\":[]},{\"type\":\"directory\",\"name\":\"//.vol\",\"contents\":[]},{\"type\":\"directory\",\"name\":\"//Users\",\"contents\":[]},{\"type\":\"directory\",\"name\":\"//Applications\",\"contents\":[]},{\"type\":\"directory\",\"name\":\"//opt\",\"contents\":[]},{\"type\":\"directory\",\"name\":\"//dev\",\"contents\":[]},{\"type\":\"directory\",\"name\":\"//Volumes\",\"contents\":[]},{\"type\":\"directory\",\"name\":\"//tmp\",\"contents\":[]},{\"type\":\"directory\",\"name\":\"//cores\",\"contents\":[]}]}]\n",
      "\n",
      "this command is the same as above\n",
      "\n",
      "\n",
      "total 10\n",
      "drwxrwxr-x+ 62 root  admin  1984 Nov 17 17:44 \u001b[34mApplications\u001b[m\u001b[m\n",
      "drwxr-xr-x  68 root  wheel  2176 Nov 13 10:18 \u001b[34mLibrary\u001b[m\u001b[m\n",
      "drwxr-xr-x@  8 root  wheel   256 Sep 29 16:23 \u001b[34mSystem\u001b[m\u001b[m\n",
      "drwxr-xr-x   7 root  admin   224 Sep 29 16:22 \u001b[34mUsers\u001b[m\u001b[m\n",
      "drwxr-xr-x   5 root  wheel   160 Nov 17 17:44 \u001b[34mVolumes\u001b[m\u001b[m\n",
      "drwxr-xr-x@ 38 root  wheel  1216 Nov 13 10:15 \u001b[34mbin\u001b[m\u001b[m\n",
      "drwxr-xr-x   2 root  wheel    64 Aug 24 18:24 \u001b[34mcores\u001b[m\u001b[m\n",
      "dr-xr-xr-x   3 root  wheel  4805 Nov 13 10:21 \u001b[34mdev\u001b[m\u001b[m\n",
      "lrwxr-xr-x@  1 root  admin    11 Oct  7 23:37 \u001b[35metc\u001b[m\u001b[m -> private/etc\n",
      "lrwxr-xr-x   1 root  wheel    25 Nov 13 10:22 \u001b[35mhome\u001b[m\u001b[m -> /System/Volumes/Data/home\n",
      "drwxr-xr-x   4 root  wheel   128 Oct  7 23:46 \u001b[34mopt\u001b[m\u001b[m\n",
      "drwxr-xr-x   6 root  wheel   192 Nov 13 10:16 \u001b[34mprivate\u001b[m\u001b[m\n",
      "drwxr-xr-x@ 64 root  wheel  2048 Nov 13 10:15 \u001b[34msbin\u001b[m\u001b[m\n",
      "lrwxr-xr-x@  1 root  admin    11 Oct  7 23:41 \u001b[35mtmp\u001b[m\u001b[m -> private/tmp\n",
      "drwxr-xr-x@ 11 root  wheel   352 Oct  7 23:41 \u001b[34musr\u001b[m\u001b[m\n",
      "lrwxr-xr-x@  1 root  admin    11 Oct  7 23:41 \u001b[35mvar\u001b[m\u001b[m -> private/var\n"
     ]
    }
   ],
   "source": [
    "!curl http://localhost:8000/files/local/list/\n",
    "# this command is the same as above\n",
    "\n",
    "!echo \"\\n\\nthis command is the same as above\\n\\n\"\n",
    "\n",
    "!ls -l /"
   ]
  },
  {
   "cell_type": "markdown",
   "metadata": {},
   "source": [
    "## Test with non-existent folder path"
   ]
  },
  {
   "cell_type": "code",
   "execution_count": 16,
   "metadata": {},
   "outputs": [
    {
     "name": "stdout",
     "output_type": "stream",
     "text": [
      "[{\"name\":\"/non-existent-folder\",\"contents\":[{\"error\":\"opening dir\"}]}]\n",
      "\n",
      "this command is the same as above\n",
      "\n",
      "\n",
      "ls: /non-existent-folder: No such file or directory\n"
     ]
    }
   ],
   "source": [
    "!curl \"http://localhost:8000/files/local/list/?folder=/non-existent-folder\"\n",
    "# this command is the same as above\n",
    "\n",
    "!echo \"\\n\\nthis command is the same as above\\n\\n\"\n",
    "\n",
    "!ls -l /non-existent-folder"
   ]
  },
  {
   "cell_type": "markdown",
   "metadata": {},
   "source": [
    "# testing file download feature\n",
    "### can be only run when we know the full path of a file"
   ]
  },
  {
   "cell_type": "markdown",
   "metadata": {},
   "source": [
    "# when file doesn't exist"
   ]
  },
  {
   "cell_type": "code",
   "execution_count": 17,
   "metadata": {},
   "outputs": [
    {
     "name": "stdout",
     "output_type": "stream",
     "text": [
      "\"no file was found at /path/does/not/exist/to/this/file.txt\"\n",
      "\n",
      "this command is the same as above\n",
      "\n",
      "\n",
      "cat: /path/does/not/exist/to/this/file.txt: No such file or directory\n"
     ]
    }
   ],
   "source": [
    "\n",
    "!curl \"http://localhost:8000/files/local/download/?file_path=/path/does/not/exist/to/this/file.txt\"\n",
    "# this command is the same as above\n",
    "\n",
    "!echo \"\\n\\nthis command is the same as above\\n\\n\"\n",
    "\n",
    "!cat /path/does/not/exist/to/this/file.txt"
   ]
  },
  {
   "cell_type": "markdown",
   "metadata": {},
   "source": [
    "# when file param wasnt sent to the service"
   ]
  },
  {
   "cell_type": "code",
   "execution_count": 18,
   "metadata": {},
   "outputs": [
    {
     "name": "stdout",
     "output_type": "stream",
     "text": [
      "\"`file_path` is a mandatory field and cannot be empty\""
     ]
    }
   ],
   "source": [
    "\n",
    "!curl \"http://localhost:8000/files/local/download/\"\n"
   ]
  },
  {
   "cell_type": "markdown",
   "metadata": {},
   "source": [
    "# when folder name is sent for download"
   ]
  },
  {
   "cell_type": "code",
   "execution_count": 19,
   "metadata": {},
   "outputs": [
    {
     "name": "stdout",
     "output_type": "stream",
     "text": [
      "\"this /Users is not a file\"\n",
      "\n",
      "this command is the same as above\n",
      "\n",
      "\n",
      "cat: /Users: Is a directory\n"
     ]
    }
   ],
   "source": [
    "\n",
    "!curl \"http://localhost:8000/files/local/download/?file_path=/Users\"\n",
    "# this command is the same as above\n",
    "\n",
    "!echo \"\\n\\nthis command is the same as above\\n\\n\"\n",
    "\n",
    "!cat /Users"
   ]
  },
  {
   "cell_type": "markdown",
   "metadata": {},
   "source": [
    "# when correct file name was sent for download"
   ]
  },
  {
   "cell_type": "code",
   "execution_count": 20,
   "metadata": {
    "scrolled": true
   },
   "outputs": [
    {
     "name": "stdout",
     "output_type": "stream",
     "text": [
      "[\"hello \\n\"]\n",
      "\n",
      "this command is the same as above\n",
      "\n",
      "\n",
      "hello \n"
     ]
    }
   ],
   "source": [
    "\n",
    "!curl \"http://localhost:8000/files/local/download/?file_path=/Users/asharma/Downloads/1.txt\"\n",
    "# this command is the same as above\n",
    "\n",
    "!echo \"\\n\\nthis command is the same as above\\n\\n\"\n",
    "\n",
    "!cat /Users/asharma/Downloads/1.txt"
   ]
  },
  {
   "cell_type": "code",
   "execution_count": null,
   "metadata": {},
   "outputs": [],
   "source": []
  },
  {
   "cell_type": "code",
   "execution_count": null,
   "metadata": {},
   "outputs": [],
   "source": []
  }
 ],
 "metadata": {
  "kernelspec": {
   "display_name": "Python 3",
   "language": "python",
   "name": "python3"
  },
  "language_info": {
   "codemirror_mode": {
    "name": "ipython",
    "version": 3
   },
   "file_extension": ".py",
   "mimetype": "text/x-python",
   "name": "python",
   "nbconvert_exporter": "python",
   "pygments_lexer": "ipython3",
   "version": "3.7.4"
  }
 },
 "nbformat": 4,
 "nbformat_minor": 2
}
