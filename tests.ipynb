{
 "cells": [
  {
   "cell_type": "code",
   "execution_count": 5,
   "metadata": {},
   "outputs": [
    {
     "name": "stdout",
     "output_type": "stream",
     "text": [
      "{\"folder\":\"/\",\"children\":[{\"name\":\"/LAN34/\",\"last_modified\":0,\"last_accessed\":0,\"full_path\":\"/LAN34/\",\"size\":0},{\"name\":\"/LAN33/\",\"last_modified\":0,\"last_accessed\":0,\"full_path\":\"/LAN33/\",\"size\":0},{\"name\":\"/tmp/\",\"last_modified\":0,\"last_accessed\":0,\"full_path\":\"/tmp/\",\"size\":0}]}"
     ]
    }
   ],
   "source": [
    "!curl http://192.168.190.133:8000/browse/?folder=/\n",
    "# shows 3 folders inside /"
   ]
  },
  {
   "cell_type": "code",
   "execution_count": 7,
   "metadata": {},
   "outputs": [
    {
     "name": "stdout",
     "output_type": "stream",
     "text": [
      "{\"error\":\"folder or file not found\"}"
     ]
    }
   ],
   "source": [
    "!curl http://192.168.190.133:8000/browse/?folder=/lan33\n",
    "\n",
    "#shows files under /lan33"
   ]
  },
  {
   "cell_type": "code",
   "execution_count": 8,
   "metadata": {},
   "outputs": [
    {
     "name": "stdout",
     "output_type": "stream",
     "text": [
      "{\"Job\":\"Done\"}"
     ]
    }
   ],
   "source": [
    "!curl http://192.168.190.133:8000/solr_job/\n",
    "\n",
    "# 1. recursively checks each folder for parquet files\n",
    "# 2. extract schema\n",
    "# 3. prepare solr object\n",
    "# 4. commit to solr (with overwrite=True)"
   ]
  },
  {
   "cell_type": "code",
   "execution_count": null,
   "metadata": {},
   "outputs": [],
   "source": []
  }
 ],
 "metadata": {
  "kernelspec": {
   "display_name": "Python 3",
   "language": "python",
   "name": "python3"
  },
  "language_info": {
   "codemirror_mode": {
    "name": "ipython",
    "version": 3
   },
   "file_extension": ".py",
   "mimetype": "text/x-python",
   "name": "python",
   "nbconvert_exporter": "python",
   "pygments_lexer": "ipython3",
   "version": "3.6.3"
  }
 },
 "nbformat": 4,
 "nbformat_minor": 2
}
