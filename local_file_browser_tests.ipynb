{
 "cells": [
  {
   "cell_type": "markdown",
   "metadata": {},
   "source": [
    "# Testing local file browser api's"
   ]
  },
  {
   "cell_type": "code",
   "execution_count": 78,
   "metadata": {},
   "outputs": [],
   "source": [
    "#Start django instance"
   ]
  },
  {
   "cell_type": "markdown",
   "metadata": {},
   "source": [
    "# assuming the application is running on port ```8000```"
   ]
  },
  {
   "cell_type": "markdown",
   "metadata": {},
   "source": [
    "```base_URL = \"http://localhost:8000/\"```\n",
    "### for when we want to list files from SAN\n",
    "```context_path = \"file_manager/local/browse/\"```\n",
    "### for when we want to list files from HDFS\n",
    "```context_path = \"file_manager/hdfs/browse/\"```\n",
    "### for when we want to upload files to SAN\n",
    "```context_path = \"file_manager/local/upload/\"```\n",
    "### for when we want to download files to SAN\n",
    "```context_path = \"file_manager/local/download/\"```\n",
    "\n",
    "### for all requests\n",
    "```query_param = \"path\"```\n",
    "\n",
    "#### query parameter accepts a string with the path to target folder"
   ]
  },
  {
   "cell_type": "markdown",
   "metadata": {},
   "source": [
    "## Test with folder path\n",
    "### when the param ```path``` is sent and exists in the system | <span style=\"background:lightgreen\"> HAPPY PATH </span>"
   ]
  },
  {
   "cell_type": "code",
   "execution_count": 79,
   "metadata": {
    "scrolled": true
   },
   "outputs": [
    {
     "name": "stdout",
     "output_type": "stream",
     "text": [
      "[\r\n",
      "   {\r\n",
      "      \"contents\" : [\r\n",
      "         {\r\n",
      "            \"type\" : \"directory\",\r\n",
      "            \"name\" : \"/home\",\r\n",
      "            \"contents\" : []\r\n",
      "         },\r\n",
      "         {\r\n",
      "            \"type\" : \"directory\",\r\n",
      "            \"contents\" : [],\r\n",
      "            \"name\" : \"/usr\"\r\n",
      "         },\r\n",
      "         {\r\n",
      "            \"type\" : \"directory\",\r\n",
      "            \"name\" : \"/bin\",\r\n",
      "            \"contents\" : []\r\n",
      "         },\r\n",
      "         {\r\n",
      "            \"type\" : \"directory\",\r\n",
      "            \"name\" : \"/sbin\",\r\n",
      "            \"contents\" : []\r\n",
      "         },\r\n",
      "         {\r\n",
      "            \"contents\" : [],\r\n",
      "            \"name\" : \"/etc\",\r\n",
      "            \"type\" : \"directory\"\r\n",
      "         },\r\n",
      "         {\r\n",
      "            \"type\" : \"directory\",\r\n",
      "            \"contents\" : [],\r\n",
      "            \"name\" : \"/var\"\r\n",
      "         },\r\n",
      "         {\r\n",
      "            \"type\" : \"directory\",\r\n",
      "            \"contents\" : [],\r\n",
      "            \"name\" : \"/Library\"\r\n",
      "         },\r\n",
      "         {\r\n",
      "            \"type\" : \"directory\",\r\n",
      "            \"name\" : \"/System\",\r\n",
      "            \"contents\" : []\r\n",
      "         },\r\n",
      "         {\r\n",
      "            \"name\" : \"/.fseventsd\",\r\n",
      "            \"contents\" : [],\r\n",
      "            \"type\" : \"directory\"\r\n",
      "         },\r\n",
      "         {\r\n",
      "            \"name\" : \"/private\",\r\n",
      "            \"contents\" : [],\r\n",
      "            \"type\" : \"directory\"\r\n",
      "         },\r\n",
      "         {\r\n",
      "            \"name\" : \"/.vol\",\r\n",
      "            \"contents\" : [],\r\n",
      "            \"type\" : \"directory\"\r\n",
      "         },\r\n",
      "         {\r\n",
      "            \"type\" : \"directory\",\r\n",
      "            \"contents\" : [],\r\n",
      "            \"name\" : \"/Users\"\r\n",
      "         },\r\n",
      "         {\r\n",
      "            \"type\" : \"directory\",\r\n",
      "            \"name\" : \"/Applications\",\r\n",
      "            \"contents\" : []\r\n",
      "         },\r\n",
      "         {\r\n",
      "            \"type\" : \"directory\",\r\n",
      "            \"contents\" : [],\r\n",
      "            \"name\" : \"/opt\"\r\n",
      "         },\r\n",
      "         {\r\n",
      "            \"type\" : \"directory\",\r\n",
      "            \"contents\" : [],\r\n",
      "            \"name\" : \"/dev\"\r\n",
      "         },\r\n",
      "         {\r\n",
      "            \"type\" : \"directory\",\r\n",
      "            \"name\" : \"/Volumes\",\r\n",
      "            \"contents\" : []\r\n",
      "         },\r\n",
      "         {\r\n",
      "            \"name\" : \"/tmp\",\r\n",
      "            \"contents\" : [],\r\n",
      "            \"type\" : \"directory\"\r\n",
      "         },\r\n",
      "         {\r\n",
      "            \"type\" : \"directory\",\r\n",
      "            \"contents\" : [],\r\n",
      "            \"name\" : \"/cores\"\r\n",
      "         },\r\n",
      "         [\r\n",
      "            {\r\n",
      "               \"name\" : \"/.DS_Store\",\r\n",
      "               \"simple_name\" : \".DS_Store\",\r\n",
      "               \"type\" : \"file\",\r\n",
      "               \"file_size\" : 0\r\n",
      "            },\r\n",
      "            {\r\n",
      "               \"name\" : \"/.file\",\r\n",
      "               \"simple_name\" : \".file\",\r\n",
      "               \"type\" : \"file\",\r\n",
      "               \"file_size\" : 0\r\n",
      "            }\r\n",
      "         ]\r\n",
      "      ],\r\n",
      "      \"name\" : \"/\",\r\n",
      "      \"type\" : \"directory\"\r\n",
      "   }\r\n",
      "]\r\n"
     ]
    }
   ],
   "source": [
    "!curl -s http://localhost:8000/file_manager/local/browse/?path=/ | json_pp"
   ]
  },
  {
   "cell_type": "markdown",
   "metadata": {},
   "source": [
    "## Test with non-existent folder path | <span style=\"background:red\"> FAIL PATH </span>"
   ]
  },
  {
   "cell_type": "code",
   "execution_count": 80,
   "metadata": {},
   "outputs": [
    {
     "name": "stdout",
     "output_type": "stream",
     "text": [
      "[\r\n",
      "   {\r\n",
      "      \"name\" : \"/non-existent-folder\",\r\n",
      "      \"contents\" : [\r\n",
      "         {\r\n",
      "            \"error\" : \"opening dir\"\r\n",
      "         }\r\n",
      "      ]\r\n",
      "   }\r\n",
      "]\r\n"
     ]
    }
   ],
   "source": [
    "!curl -s http://localhost:8000/file_manager/local/browse/?path=/non-existent-folder | json_pp"
   ]
  },
  {
   "cell_type": "markdown",
   "metadata": {},
   "source": [
    "# testing file download feature\n",
    "### can be only run when we know the full path of a file"
   ]
  },
  {
   "cell_type": "markdown",
   "metadata": {},
   "source": [
    "# when file doesn't exist |  <span style=\"background:red\"> FAIL PATH </span>"
   ]
  },
  {
   "cell_type": "code",
   "execution_count": 81,
   "metadata": {},
   "outputs": [
    {
     "name": "stdout",
     "output_type": "stream",
     "text": [
      "{\r\n",
      "   \"error\" : \"no file was found at /non-existent-file\"\r\n",
      "}\r\n"
     ]
    }
   ],
   "source": [
    "!curl -s http://localhost:8000/file_manager/local/download/?path=/non-existent-file | json_pp"
   ]
  },
  {
   "cell_type": "markdown",
   "metadata": {},
   "source": [
    "# when ```path``` param wasn't sent to the service | <span style=\"background:red\"> FAIL PATH </span>"
   ]
  },
  {
   "cell_type": "code",
   "execution_count": 82,
   "metadata": {},
   "outputs": [
    {
     "name": "stdout",
     "output_type": "stream",
     "text": [
      "{\r\n",
      "   \"error\" : \"`path` parameter in http GET is mandatory\"\r\n",
      "}\r\n"
     ]
    }
   ],
   "source": [
    "!curl -s http://localhost:8000/file_manager/local/download/ | json_pp"
   ]
  },
  {
   "cell_type": "markdown",
   "metadata": {},
   "source": [
    "# when folder name is sent for download | <span style=\"background:red\"> FAIL PATH </span>"
   ]
  },
  {
   "cell_type": "code",
   "execution_count": 83,
   "metadata": {},
   "outputs": [
    {
     "name": "stdout",
     "output_type": "stream",
     "text": [
      "{\n",
      "   \"error\" : \"The path [/Users] is not a file\"\n",
      "}\n",
      "\n",
      "\n",
      "this command is the same as above\n",
      "\n",
      "\n",
      "cat: /Users: Is a directory\n"
     ]
    }
   ],
   "source": [
    "\n",
    "!curl -s \"http://localhost:8000/file_manager/local/download/?path=/Users\" | json_pp\n",
    "# this command is the same as above\n",
    "\n",
    "!echo \"\\n\\nthis command is the same as above\\n\\n\"\n",
    "\n",
    "!cat /Users"
   ]
  },
  {
   "cell_type": "markdown",
   "metadata": {},
   "source": [
    "# when correct file name was sent for download  | <span style=\"background:lightgreen\"> HAPPY PATH </span>"
   ]
  },
  {
   "cell_type": "code",
   "execution_count": 84,
   "metadata": {
    "scrolled": true
   },
   "outputs": [
    {
     "name": "stdout",
     "output_type": "stream",
     "text": [
      "[\"hello \\n\"]"
     ]
    }
   ],
   "source": [
    "!curl -s \"http://localhost:8000/file_manager/local/download/?path=/Users/asharma/Downloads/1.txt\""
   ]
  },
  {
   "cell_type": "markdown",
   "metadata": {},
   "source": [
    "# Test file upload  | <span style=\"background:lightgreen\"> HAPPY PATH </span>\n",
    "### service saves file into the give folder"
   ]
  },
  {
   "cell_type": "markdown",
   "metadata": {},
   "source": [
    "### service tries to create folder if it doesn't exist; if it fails to then it returns a ```http/304 - not modified``` since nothing was modified on the server"
   ]
  },
  {
   "cell_type": "code",
   "execution_count": 85,
   "metadata": {
    "scrolled": true
   },
   "outputs": [
    {
     "name": "stdout",
     "output_type": "stream",
     "text": [
      "[\r\n",
      "   {\r\n",
      "      \"type\" : \"directory\",\r\n",
      "      \"contents\" : [\r\n",
      "         [\r\n",
      "            {\r\n",
      "               \"simple_name\" : \"bash.command\",\r\n",
      "               \"name\" : \"/tmp/folder2/bash.command\",\r\n",
      "               \"file_size\" : 623344,\r\n",
      "               \"type\" : \"file\"\r\n",
      "            }\r\n",
      "         ]\r\n",
      "      ],\r\n",
      "      \"name\" : \"/tmp/folder2/\"\r\n",
      "   }\r\n",
      "]\r\n"
     ]
    }
   ],
   "source": [
    "!curl -s \\\n",
    "  -F 'file_ref=@/bin/bash' \\\n",
    "  -F 'file_name=bash.command' \\\n",
    "  -F \"file_location=/tmp/folder2/\" \\\n",
    "    \"http://0.0.0.0:8000/file_manager/local/upload/\" | json_pp"
   ]
  },
  {
   "cell_type": "markdown",
   "metadata": {},
   "source": [
    "# Test file upload  | <span style=\"background:red\"> FAIL PATH </span>\n",
    "### service tries to save an already existing file (basically, replace isn't allowed)"
   ]
  },
  {
   "cell_type": "code",
   "execution_count": 86,
   "metadata": {},
   "outputs": [
    {
     "name": "stdout",
     "output_type": "stream",
     "text": [
      "HTTP/1.1 100 Continue\r",
      "\r\n",
      "\r",
      "\r\n",
      "HTTP/1.1 304 Not Modified\r",
      "\r\n",
      "\u001b[1mDate\u001b[0m: Tue, 03 Dec 2019 22:06:12 GMT\r",
      "\r\n",
      "\u001b[1mServer\u001b[0m: WSGIServer/0.2 CPython/3.7.4\r",
      "\r\n",
      "\u001b[1mContent-Type\u001b[0m: application/json\r",
      "\r\n",
      "\u001b[1mVary\u001b[0m: Accept, Origin, Cookie\r",
      "\r\n",
      "\u001b[1mAllow\u001b[0m: POST, OPTIONS\r",
      "\r\n",
      "\u001b[1mX-Frame-Options\u001b[0m: SAMEORIGIN\r",
      "\r\n",
      "\u001b[1mContent-Length\u001b[0m: 133\r",
      "\r\n",
      "\r",
      "\r\n"
     ]
    }
   ],
   "source": [
    "!curl -si \\\n",
    "  -F 'file_ref=@/bin/bash' \\\n",
    "  -F 'file_name=bash.command' \\\n",
    "  -F \"file_location=/tmp/folder2/\" \\\n",
    "    \"http://0.0.0.0:8000/file_manager/local/upload/\" "
   ]
  },
  {
   "cell_type": "code",
   "execution_count": null,
   "metadata": {},
   "outputs": [],
   "source": []
  },
  {
   "cell_type": "code",
   "execution_count": null,
   "metadata": {},
   "outputs": [],
   "source": []
  }
 ],
 "metadata": {
  "kernelspec": {
   "display_name": "Python 3",
   "language": "python",
   "name": "python3"
  },
  "language_info": {
   "codemirror_mode": {
    "name": "ipython",
    "version": 3
   },
   "file_extension": ".py",
   "mimetype": "text/x-python",
   "name": "python",
   "nbconvert_exporter": "python",
   "pygments_lexer": "ipython3",
   "version": "3.7.4"
  }
 },
 "nbformat": 4,
 "nbformat_minor": 2
}
