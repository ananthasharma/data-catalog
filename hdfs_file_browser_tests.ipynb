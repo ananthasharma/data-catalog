{
 "cells": [
  {
   "cell_type": "markdown",
   "metadata": {},
   "source": [
    "# Testing hdfs file browser api's"
   ]
  },
  {
   "cell_type": "code",
   "execution_count": 1,
   "metadata": {},
   "outputs": [],
   "source": [
    "#Start django instance"
   ]
  },
  {
   "cell_type": "markdown",
   "metadata": {},
   "source": [
    "# assuming the application is running on port ```8000```"
   ]
  },
  {
   "cell_type": "markdown",
   "metadata": {},
   "source": [
    "```base_URL = \"http://localhost:8000/\"```\n",
    "### for when we want to list files from SAN\n",
    "```context_path = \"file_manager/local/browse/\"```\n",
    "### for when we want to list files from HDFS\n",
    "**```context_path = \"file_manager/hdfs/browse/\"```**\n",
    "### for when we want to upload files to SAN\n",
    "```context_path = \"file_manager/local/upload/\"```\n",
    "### for when we want to download files to SAN\n",
    "```context_path = \"file_manager/local/download/\"```\n",
    "\n",
    "### for all requests\n",
    "```query_param = \"path\"```\n",
    "\n",
    "#### query parameter accepts a string with the path to target folder"
   ]
  },
  {
   "cell_type": "markdown",
   "metadata": {},
   "source": [
    "# <span style=\"background:cyan\">assumed configuration</span>\n",
    "\n",
    "\n",
    "```\"/LAN33\" maps to \"/var\"```\n",
    "\n",
    "```\"/LAN34\" maps to \"/opt\"```\n",
    "\n",
    "```\"/LAN35\" maps to \"/usr\"```\n",
    "\n",
    "```\"/LAN36\" maps to \"/opt/mapr\"```\n"
   ]
  },
  {
   "cell_type": "markdown",
   "metadata": {},
   "source": [
    "## Test with folder path\n",
    "### when the param ```path``` is sent and exists in the system | <span style=\"background:lightgreen\"> HAPPY PATH </span>"
   ]
  },
  {
   "cell_type": "code",
   "execution_count": 2,
   "metadata": {
    "scrolled": true
   },
   "outputs": [
    {
     "name": "stdout",
     "output_type": "stream",
     "text": [
      "[\r\n",
      "   {\r\n",
      "      \"simple_name\" : \".DS_Store\",\r\n",
      "      \"name\" : \"/.DS_Store\",\r\n",
      "      \"type\" : \"file\",\r\n",
      "      \"file_size\" : 0\r\n",
      "   },\r\n",
      "   {\r\n",
      "      \"name\" : \"/.file\",\r\n",
      "      \"simple_name\" : \".file\",\r\n",
      "      \"type\" : \"file\",\r\n",
      "      \"file_size\" : 0\r\n",
      "   },\r\n",
      "   {\r\n",
      "      \"contents\" : [],\r\n",
      "      \"simple_name\" : \".fseventsd\",\r\n",
      "      \"name\" : \"/.fseventsd\",\r\n",
      "      \"type\" : \"directory\"\r\n",
      "   },\r\n",
      "   {\r\n",
      "      \"type\" : \"directory\",\r\n",
      "      \"simple_name\" : \".vol\",\r\n",
      "      \"name\" : \"/.vol\",\r\n",
      "      \"contents\" : []\r\n",
      "   },\r\n",
      "   {\r\n",
      "      \"name\" : \"/Applications\",\r\n",
      "      \"simple_name\" : \"Applications\",\r\n",
      "      \"type\" : \"directory\",\r\n",
      "      \"contents\" : []\r\n",
      "   },\r\n",
      "   {\r\n",
      "      \"contents\" : [],\r\n",
      "      \"type\" : \"directory\",\r\n",
      "      \"simple_name\" : \"Library\",\r\n",
      "      \"name\" : \"/Library\"\r\n",
      "   },\r\n",
      "   {\r\n",
      "      \"contents\" : [],\r\n",
      "      \"name\" : \"/System\",\r\n",
      "      \"simple_name\" : \"System\",\r\n",
      "      \"type\" : \"directory\"\r\n",
      "   },\r\n",
      "   {\r\n",
      "      \"simple_name\" : \"Users\",\r\n",
      "      \"name\" : \"/Users\",\r\n",
      "      \"type\" : \"directory\",\r\n",
      "      \"contents\" : []\r\n",
      "   },\r\n",
      "   {\r\n",
      "      \"contents\" : [],\r\n",
      "      \"name\" : \"/Volumes\",\r\n",
      "      \"simple_name\" : \"Volumes\",\r\n",
      "      \"type\" : \"directory\"\r\n",
      "   },\r\n",
      "   {\r\n",
      "      \"type\" : \"directory\",\r\n",
      "      \"simple_name\" : \"bin\",\r\n",
      "      \"name\" : \"/bin\",\r\n",
      "      \"contents\" : []\r\n",
      "   },\r\n",
      "   {\r\n",
      "      \"contents\" : [],\r\n",
      "      \"name\" : \"/cores\",\r\n",
      "      \"simple_name\" : \"cores\",\r\n",
      "      \"type\" : \"directory\"\r\n",
      "   },\r\n",
      "   {\r\n",
      "      \"type\" : \"directory\",\r\n",
      "      \"simple_name\" : \"dev\",\r\n",
      "      \"name\" : \"/dev\",\r\n",
      "      \"contents\" : []\r\n",
      "   },\r\n",
      "   {\r\n",
      "      \"contents\" : [],\r\n",
      "      \"simple_name\" : \"etc\",\r\n",
      "      \"name\" : \"/etc\",\r\n",
      "      \"type\" : \"directory\"\r\n",
      "   },\r\n",
      "   {\r\n",
      "      \"name\" : \"/home\",\r\n",
      "      \"simple_name\" : \"home\",\r\n",
      "      \"type\" : \"directory\",\r\n",
      "      \"contents\" : []\r\n",
      "   },\r\n",
      "   {\r\n",
      "      \"simple_name\" : \"lan34\",\r\n",
      "      \"type\" : \"directory\",\r\n",
      "      \"name\" : \"/lan34\",\r\n",
      "      \"contents\" : []\r\n",
      "   },\r\n",
      "   {\r\n",
      "      \"contents\" : [],\r\n",
      "      \"simple_name\" : \"private\",\r\n",
      "      \"type\" : \"directory\",\r\n",
      "      \"name\" : \"/private\"\r\n",
      "   },\r\n",
      "   {\r\n",
      "      \"type\" : \"directory\",\r\n",
      "      \"simple_name\" : \"sbin\",\r\n",
      "      \"name\" : \"/sbin\",\r\n",
      "      \"contents\" : []\r\n",
      "   },\r\n",
      "   {\r\n",
      "      \"name\" : \"/tmp\",\r\n",
      "      \"simple_name\" : \"tmp\",\r\n",
      "      \"type\" : \"directory\",\r\n",
      "      \"contents\" : []\r\n",
      "   },\r\n",
      "   {\r\n",
      "      \"type\" : \"directory\",\r\n",
      "      \"simple_name\" : \"lan35\",\r\n",
      "      \"name\" : \"/lan35\",\r\n",
      "      \"contents\" : []\r\n",
      "   },\r\n",
      "   {\r\n",
      "      \"type\" : \"directory\",\r\n",
      "      \"simple_name\" : \"lan33\",\r\n",
      "      \"name\" : \"/lan33\",\r\n",
      "      \"contents\" : []\r\n",
      "   }\r\n",
      "]\r\n"
     ]
    }
   ],
   "source": [
    "!curl -s http://localhost:8000/file_manager/hdfs/browse/?path=/ | json_pp"
   ]
  },
  {
   "cell_type": "markdown",
   "metadata": {},
   "source": [
    "## Test with non-existent folder path | <span style=\"background:red\"> FAIL PATH </span>"
   ]
  },
  {
   "cell_type": "code",
   "execution_count": 3,
   "metadata": {},
   "outputs": [
    {
     "name": "stdout",
     "output_type": "stream",
     "text": [
      "[\r\n",
      "   {\r\n",
      "      \"name\" : \"/non-existent-folder\",\r\n",
      "      \"type\" : \"directory\",\r\n",
      "      \"contents\" : []\r\n",
      "   }\r\n",
      "]\r\n"
     ]
    }
   ],
   "source": [
    "!curl -s http://localhost:8000/file_manager/hdfs/browse/?path=/non-existent-folder | json_pp"
   ]
  },
  {
   "cell_type": "markdown",
   "metadata": {},
   "source": [
    "# when ```path``` param wasn't sent to the service | <span style=\"background:red\"> FAIL PATH </span>"
   ]
  },
  {
   "cell_type": "code",
   "execution_count": 4,
   "metadata": {},
   "outputs": [
    {
     "name": "stdout",
     "output_type": "stream",
     "text": [
      "{\r\n",
      "   \"error\" : \"`path` parameter in http GET is mandatory\"\r\n",
      "}\r\n"
     ]
    }
   ],
   "source": [
    "!curl -s http://localhost:8000/file_manager/hdfs/browse/ | json_pp"
   ]
  }
 ],
 "metadata": {
  "kernelspec": {
   "display_name": "Python 3",
   "language": "python",
   "name": "python3"
  },
  "language_info": {
   "codemirror_mode": {
    "name": "ipython",
    "version": 3
   },
   "file_extension": ".py",
   "mimetype": "text/x-python",
   "name": "python",
   "nbconvert_exporter": "python",
   "pygments_lexer": "ipython3",
   "version": "3.7.4"
  }
 },
 "nbformat": 4,
 "nbformat_minor": 2
}
